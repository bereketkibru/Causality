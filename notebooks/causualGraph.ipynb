{
 "cells": [
  {
   "cell_type": "code",
   "execution_count": null,
   "source": [
    "import numpy as np\r\n",
    "import pandas as pd\r\n",
    "import matplotlib.pyplot as plt\r\n",
    "import seaborn as sns\r\n",
    "import math\r\n",
    "import dowhy\r\n",
    "from dowhy import CausalModel\r\n",
    "import dowhy.datasets, dowhy.plotter"
   ],
   "outputs": [],
   "metadata": {}
  }
 ],
 "metadata": {
  "orig_nbformat": 4,
  "language_info": {
   "name": "python",
   "version": "3.9.6",
   "mimetype": "text/x-python",
   "codemirror_mode": {
    "name": "ipython",
    "version": 3
   },
   "pygments_lexer": "ipython3",
   "nbconvert_exporter": "python",
   "file_extension": ".py"
  },
  "kernelspec": {
   "name": "python3",
   "display_name": "Python 3.9.6 64-bit ('w7': conda)"
  },
  "interpreter": {
   "hash": "5551ec4f37a3f8d54385e908d66a7643ea88f0ac9e8056cf4170f11949e584cf"
  }
 },
 "nbformat": 4,
 "nbformat_minor": 2
}